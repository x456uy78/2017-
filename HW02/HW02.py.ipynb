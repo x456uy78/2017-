{
 "cells": [
  {
   "cell_type": "code",
   "execution_count": 76,
   "metadata": {},
   "outputs": [],
   "source": [
    "import os #載入模組"
   ]
  },
  {
   "cell_type": "code",
   "execution_count": 17,
   "metadata": {
    "collapsed": true
   },
   "outputs": [],
   "source": [
    "def main():     #定義一個函數\n",
    "    print('Hello world!')\n",
    "    print(\"This is Alice's greeting.\")\n",
    "    print(\"This is Bob\\'s greeting.\")"
   ]
  },
  {
   "cell_type": "code",
   "execution_count": 18,
   "metadata": {},
   "outputs": [
    {
     "name": "stdout",
     "output_type": "stream",
     "text": [
      "Hello world!\n",
      "This is Alice's greeting.\n",
      "This is Bob's greeting.\n"
     ]
    }
   ],
   "source": [
    "main()"
   ]
  },
  {
   "cell_type": "code",
   "execution_count": 59,
   "metadata": {},
   "outputs": [
    {
     "name": "stdout",
     "output_type": "stream",
     "text": [
      "5 plus 10 equal to 15\n",
      "foo\n"
     ]
    }
   ],
   "source": [
    "foo(5,10) #下面有定義foo函數"
   ]
  },
  {
   "cell_type": "code",
   "execution_count": 58,
   "metadata": {},
   "outputs": [
    {
     "name": "stdout",
     "output_type": "stream",
     "text": [
      "==========\n",
      "Current working directory isC:\\Users\\damy\\Desktop\\程式\\python\\金融程式交易\\2017-\\HW02\n"
     ]
    }
   ],
   "source": [
    "print(\"=\"*10) #連續10個等於\n",
    "print(\"Current working directory is\"+os.getcwd())#列印出現在工作位置"
   ]
  },
  {
   "cell_type": "code",
   "execution_count": 20,
   "metadata": {},
   "outputs": [],
   "source": [
    "counter=0  \n",
    "counter +=1"
   ]
  },
  {
   "cell_type": "code",
   "execution_count": 21,
   "metadata": {
    "collapsed": true
   },
   "outputs": [],
   "source": [
    "food=['apples','oranges','cats'] #三個水果的list"
   ]
  },
  {
   "cell_type": "code",
   "execution_count": 74,
   "metadata": {},
   "outputs": [
    {
     "name": "stdout",
     "output_type": "stream",
     "text": [
      "I like to eat apples\n",
      "I like to eat oranges\n",
      "I like to eat cats\n"
     ]
    }
   ],
   "source": [
    "for i in food: #跑迴圈 印出我喜歡吃甚麼水果\n",
    "    print('I like to eat'+\" \"+i)\n",
    "    "
   ]
  },
  {
   "cell_type": "code",
   "execution_count": 28,
   "metadata": {},
   "outputs": [
    {
     "name": "stdout",
     "output_type": "stream",
     "text": [
      "Count to ten:\n",
      "0\n",
      "1\n",
      "2\n",
      "3\n",
      "4\n",
      "5\n",
      "6\n",
      "7\n",
      "8\n",
      "9\n"
     ]
    }
   ],
   "source": [
    "print(\"Count to ten:\")#利用for迴圈 從0-9 10個數字\n",
    "for i in range(10):\n",
    "    print(i)"
   ]
  },
  {
   "cell_type": "code",
   "execution_count": 54,
   "metadata": {},
   "outputs": [],
   "source": [
    "def foo(paramel,secondParam): #跑迴圈，res=兩個值相加，在各個條件下列印出相對的值\n",
    "    res=paramel+secondParam\n",
    "    print('%s plus %s equal to %s'%(paramel,secondParam,res)) #'1 plus 1 equals 2'\n",
    "    if res<50:\n",
    "        print(\"foo\")\n",
    "    elif res>= 50 and((paramel==42) or (secondParam ==24)):\n",
    "        print('bar')\n",
    "    else:\n",
    "        print('moo')\n",
    "        return(res)\n"
   ]
  },
  {
   "cell_type": "code",
   "execution_count": 55,
   "metadata": {},
   "outputs": [
    {
     "name": "stdout",
     "output_type": "stream",
     "text": [
      "40 plus 23 equal to 63\n",
      "moo\n"
     ]
    },
    {
     "data": {
      "text/plain": [
       "63"
      ]
     },
     "execution_count": 55,
     "metadata": {},
     "output_type": "execute_result"
    }
   ],
   "source": [
    "foo(40,23)"
   ]
  },
  {
   "cell_type": "code",
   "execution_count": 67,
   "metadata": {},
   "outputs": [],
   "source": [
    "if '_name_'=='_main_':  #以後當套件的name等於main的時候可以直接使用這個套件\n",
    "    main()"
   ]
  },
  {
   "cell_type": "code",
   "execution_count": null,
   "metadata": {
    "collapsed": true
   },
   "outputs": [],
   "source": []
  }
 ],
 "metadata": {
  "kernelspec": {
   "display_name": "Python 3",
   "language": "python",
   "name": "python3"
  },
  "language_info": {
   "codemirror_mode": {
    "name": "ipython",
    "version": 3
   },
   "file_extension": ".py",
   "mimetype": "text/x-python",
   "name": "python",
   "nbconvert_exporter": "python",
   "pygments_lexer": "ipython3",
   "version": "3.6.3"
  }
 },
 "nbformat": 4,
 "nbformat_minor": 2
}
