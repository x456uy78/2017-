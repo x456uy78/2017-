{
 "cells": [
  {
   "cell_type": "markdown",
   "metadata": {},
   "source": [
    "# HW01\n",
    "\n",
    "## 這個作業主要的目的是希望同學們了解善用模組跟套件可以很容易取得問題的快速解。"
   ]
  },
  {
   "cell_type": "markdown",
   "metadata": {},
   "source": [
    "## Q1. 請使用 python 讀入 Nasdaq 公司資訊！\n",
    "\n",
    "提示：\n",
    "1. 請先找到 Nasdaq Company List 的 .csv 檔的網址。\n",
    "2. 使用 pandas 套件的 read_csv 函式來讀入 .csv 檔。"
   ]
  },
  {
   "cell_type": "code",
   "execution_count": null,
   "metadata": {
    "collapsed": true
   },
   "outputs": [],
   "source": []
  },
  {
   "cell_type": "markdown",
   "metadata": {},
   "source": [
    "## Q2. 請使用 python 畫中山大學管理學院周邊地圖！\n",
    "\n",
    "提示：\n",
    "\n",
    "1. 使用 geocoder 套件來找出地址的 GPS 座標。\n",
    "2. 使用 folium 套件來顯示地圖。"
   ]
  },
  {
   "cell_type": "code",
   "execution_count": null,
   "metadata": {
    "collapsed": true
   },
   "outputs": [],
   "source": []
  },
  {
   "cell_type": "markdown",
   "metadata": {},
   "source": [
    "## Q3. 請使用 python 將新聞中可能的關鍵詞萃取出來！ (Bonus)\n",
    "\n",
    "提示：\n",
    "\n",
    "1. 使用老師提供的 util.py 來擷取鉅亨網上特定新聞的內容。\n",
    "2. 使用 jieba 套件來擷取關鍵詞。"
   ]
  },
  {
   "cell_type": "code",
   "execution_count": null,
   "metadata": {
    "collapsed": true
   },
   "outputs": [],
   "source": []
  }
 ],
 "metadata": {
  "kernelspec": {
   "display_name": "Python 3",
   "language": "python",
   "name": "python3"
  },
  "language_info": {
   "codemirror_mode": {
    "name": "ipython",
    "version": 3
   },
   "file_extension": ".py",
   "mimetype": "text/x-python",
   "name": "python",
   "nbconvert_exporter": "python",
   "pygments_lexer": "ipython3",
   "version": "3.6.2"
  }
 },
 "nbformat": 4,
 "nbformat_minor": 2
}
